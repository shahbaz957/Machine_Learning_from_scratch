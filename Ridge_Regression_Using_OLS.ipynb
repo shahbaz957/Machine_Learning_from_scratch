{
 "cells": [
  {
   "cell_type": "code",
   "execution_count": 1,
   "id": "752a4fc8-fa2a-4e72-bf32-a33ac5d1b924",
   "metadata": {},
   "outputs": [],
   "source": [
    "from sklearn.datasets import make_regression\n",
    "import matplotlib.pyplot as plt\n",
    "import numpy as np"
   ]
  },
  {
   "cell_type": "code",
   "execution_count": null,
   "id": "ec5b25e8-141a-4e85-9820-6377951f84c7",
   "metadata": {},
   "outputs": [],
   "source": []
  },
  {
   "cell_type": "code",
   "execution_count": null,
   "id": "20449722-220c-4ab7-8045-2222a04d9842",
   "metadata": {},
   "outputs": [],
   "source": []
  },
  {
   "cell_type": "code",
   "execution_count": null,
   "id": "16339717-e762-4a46-9d10-d6ad417e7026",
   "metadata": {},
   "outputs": [],
   "source": []
  },
  {
   "cell_type": "code",
   "execution_count": null,
   "id": "f6434a92-2d58-4422-9902-61208b78f13e",
   "metadata": {},
   "outputs": [],
   "source": []
  },
  {
   "cell_type": "code",
   "execution_count": null,
   "id": "cace3834-9756-4564-ae0c-3605475ad806",
   "metadata": {},
   "outputs": [],
   "source": []
  },
  {
   "cell_type": "code",
   "execution_count": null,
   "id": "f4b2e6e0-65bc-48bc-b5fb-22920a842692",
   "metadata": {},
   "outputs": [],
   "source": []
  },
  {
   "cell_type": "code",
   "execution_count": null,
   "id": "eb892d63-1f4e-4d36-9779-3c8ac33ab97e",
   "metadata": {},
   "outputs": [],
   "source": []
  },
  {
   "cell_type": "code",
   "execution_count": null,
   "id": "f82365a0-82b5-430e-8ad8-ad2ad308707c",
   "metadata": {},
   "outputs": [],
   "source": []
  },
  {
   "cell_type": "code",
   "execution_count": null,
   "id": "0b96c2a5-4ce9-47ec-a213-2088f33b7371",
   "metadata": {},
   "outputs": [],
   "source": []
  },
  {
   "cell_type": "code",
   "execution_count": null,
   "id": "4dd48652-ba8c-46ae-ad9a-c91ff3c278a6",
   "metadata": {},
   "outputs": [],
   "source": []
  },
  {
   "cell_type": "markdown",
   "id": "bd3aabda-67de-4e77-b4ad-74a2b3204d24",
   "metadata": {},
   "source": [
    "# For Multidimesional Data"
   ]
  },
  {
   "cell_type": "code",
   "execution_count": 3,
   "id": "00e76637-af2a-4e6c-9a0d-e6f22d62801d",
   "metadata": {},
   "outputs": [],
   "source": [
    "from sklearn.datasets import load_diabetes\n",
    "from sklearn.metrics import r2_score\n",
    "import numpy as np"
   ]
  },
  {
   "cell_type": "code",
   "execution_count": 4,
   "id": "411f38bf-0106-46b5-9eda-5421badc1dc0",
   "metadata": {},
   "outputs": [],
   "source": [
    "class MeraRidge():\n",
    "    def __init__(self , alpha = 0.1 ):\n",
    "        self.alpha = alpha\n",
    "        self.coef_ = None\n",
    "        self.intercept_ = None\n",
    "    def fit(self , x_train , y_train):\n",
    "        x_train = np.insert(x_train , 0 , 1 , axis = 1 )\n",
    "        I = np.identity(x_train.shape[1])\n",
    "        result = np.linalg.inv(np.dot(x_train.T,x_train) + alpha*I).dot(x_train.T).dot(y_train)\n",
    "        self.intercept_ = result[0]\n",
    "        self.coef_ = result[1:]\n",
    "    def predict(self , x_test):\n",
    "        return np.dot(x_test , self.coef_) + self.intercept_"
   ]
  },
  {
   "cell_type": "code",
   "execution_count": null,
   "id": "32b7538a-83a2-4ae3-9247-981f8b8a74a0",
   "metadata": {},
   "outputs": [],
   "source": []
  }
 ],
 "metadata": {
  "kernelspec": {
   "display_name": "Python 3 (ipykernel)",
   "language": "python",
   "name": "python3"
  },
  "language_info": {
   "codemirror_mode": {
    "name": "ipython",
    "version": 3
   },
   "file_extension": ".py",
   "mimetype": "text/x-python",
   "name": "python",
   "nbconvert_exporter": "python",
   "pygments_lexer": "ipython3",
   "version": "3.12.7"
  }
 },
 "nbformat": 4,
 "nbformat_minor": 5
}
