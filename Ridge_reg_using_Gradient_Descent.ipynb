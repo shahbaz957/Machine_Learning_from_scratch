{
 "cells": [
  {
   "cell_type": "code",
   "execution_count": 3,
   "id": "f9ee6093-197c-404f-a5c4-d2cd31d57b53",
   "metadata": {},
   "outputs": [],
   "source": [
    "import numpy as np\n",
    "import matplotlib.pyplot as plt"
   ]
  },
  {
   "cell_type": "code",
   "execution_count": 4,
   "id": "cb7b15ed-ac6b-41ea-98cd-e29992bd3596",
   "metadata": {},
   "outputs": [],
   "source": [
    "class Ridge_gd():\n",
    "    def __init__(self , lr , epoch , alpha):\n",
    "        self.epoch = epoch\n",
    "        self.lr = lr\n",
    "        self.alpha = alpha \n",
    "        self.coef_ = None\n",
    "        self.intercept_ = None\n",
    "    def fit(self , x_train):\n",
    "        self.coef_ = np.ones(x_train.shape[1])\n",
    "        self.intercept_ = 0\n",
    "        theta = np.insert(self.coef_ , 0 , self.intercept_) # Weight matrix\n",
    "        x_train = np.insert(x_train , 0, 1, axis = 1)\n",
    "        for i in range(self.epochs):\n",
    "            theta_loss_slope = np.dot(x_train.T , x_train).dot(theta) - np.dot(x_train.T , y_train) + alpha * theta\n",
    "            theta = theta - lr * theta_loss_slope\n",
    "        self.coef_ = theta[1:]\n",
    "        self.intercept_ = theta[0]\n",
    "    def predict( self , x_test):\n",
    "        return np.dot(x_test , self.coef_) + self.intercept_\n",
    "        "
   ]
  },
  {
   "cell_type": "code",
   "execution_count": null,
   "id": "f83993d9-3b8f-4540-8e6f-8e8c0ac36f37",
   "metadata": {},
   "outputs": [],
   "source": []
  }
 ],
 "metadata": {
  "kernelspec": {
   "display_name": "Python 3 (ipykernel)",
   "language": "python",
   "name": "python3"
  },
  "language_info": {
   "codemirror_mode": {
    "name": "ipython",
    "version": 3
   },
   "file_extension": ".py",
   "mimetype": "text/x-python",
   "name": "python",
   "nbconvert_exporter": "python",
   "pygments_lexer": "ipython3",
   "version": "3.12.7"
  }
 },
 "nbformat": 4,
 "nbformat_minor": 5
}
